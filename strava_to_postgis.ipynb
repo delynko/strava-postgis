{
 "cells": [
  {
   "cell_type": "code",
   "execution_count": 2,
   "metadata": {},
   "outputs": [],
   "source": [
    "from stravalib.client import Client\n",
    "from stravalib import unithelper\n",
    "import pandas as pd\n",
    "import geopandas as gpd\n",
    "import sqlalchemy as db\n",
    "from geoalchemy2 import Geometry, WKTElement\n",
    "import shapely\n",
    "from shapely.geometry import LineString\n",
    "import polyline\n",
    "import psycopg2\n",
    "import os\n",
    "from dotenv import load_dotenv\n",
    "load_dotenv()\n",
    "\n",
    "postgres_username = os.getenv('POSTGRES_USERNAME')\n",
    "postgres_password = os.getenv('POSTGRES_PASSWORD')\n",
    "postgres_host = os.getenv('POSTGRES_HOST')\n",
    "client_id = os.getenv('STRAVA_CLIENT_ID')\n",
    "client_secret = os.getenv('STRAVA_CLIENT_SECRET')\n",
    "redirect_uri = os.getenv('STRAVA_REDIRECT_URI')"
   ]
  },
  {
   "cell_type": "markdown",
   "metadata": {},
   "source": [
    "<b>Get list of Strava IDs in postgres table</b>"
   ]
  },
  {
   "cell_type": "code",
   "execution_count": 3,
   "metadata": {},
   "outputs": [
    {
     "name": "stdout",
     "output_type": "stream",
     "text": [
      "1628\n"
     ]
    }
   ],
   "source": [
    "db_strava_ids = []\n",
    "\n",
    "eng = db.create_engine(f'postgresql://{postgres_username}:{postgres_password}@{postgres_host}/Recreation')\n",
    "\n",
    "conn = eng.connect()\n",
    "metadata = db.MetaData()\n",
    "\n",
    "rec_acts = db.Table('rec_acts', metadata, autoload=True, autoload_with=eng)\n",
    "\n",
    "qry = db.select([rec_acts.columns.strava_id])\n",
    "\n",
    "result = conn.execute(qry)\n",
    "res = result.fetchall()\n",
    "for r in res:\n",
    "    db_strava_ids.append(r[0])\n",
    "print(len(db_strava_ids))"
   ]
  },
  {
   "cell_type": "markdown",
   "metadata": {},
   "source": [
    "<b>Instantiate Strava API call</b>"
   ]
  },
  {
   "cell_type": "code",
   "execution_count": 4,
   "metadata": {},
   "outputs": [
    {
     "data": {
      "text/plain": [
       "'https://www.strava.com/oauth/authorize?client_id=17544&redirect_uri=http%3A%2F%2F127.0.0.1%2F%2Fauthorized&approval_prompt=auto&response_type=code&scope=read%2Cactivity%3Aread'"
      ]
     },
     "execution_count": 4,
     "metadata": {},
     "output_type": "execute_result"
    }
   ],
   "source": [
    "client = Client()\n",
    "authorize_url = client.authorization_url(\n",
    "    client_id=client_id,\n",
    "    redirect_uri=redirect_uri,   \n",
    ")\n",
    "authorize_url"
   ]
  },
  {
   "cell_type": "code",
   "execution_count": 5,
   "metadata": {},
   "outputs": [],
   "source": [
    "token_response = client.exchange_code_for_token(\n",
    "    client_id=client_id,\n",
    "    client_secret=client_secret,\n",
    "    code='eab012ac423074f4c2d1abbc8ae409677e4bf6e1'\n",
    ")\n",
    "\n",
    "access_token = token_response['access_token']\n",
    "refresh_token = token_response['refresh_token']\n",
    "expires_at = token_response['expires_at']\n",
    "\n",
    "client.access_token = access_token\n",
    "client.refresh_token = refresh_token\n",
    "\n",
    "client.token_expires_at = expires_at\n",
    " \n",
    "athlete = client.get_athlete()"
   ]
  },
  {
   "cell_type": "markdown",
   "metadata": {},
   "source": [
    "<b>Get list of activity ids that are not already in rec_acts table.</b>"
   ]
  },
  {
   "cell_type": "code",
   "execution_count": 6,
   "metadata": {},
   "outputs": [
    {
     "name": "stdout",
     "output_type": "stream",
     "text": [
      "1631\n"
     ]
    }
   ],
   "source": [
    "activity_ids = []\n",
    "for activity in client.get_activities(after = \"2014-01-01T00:00:00Z\",  limit=10000):\n",
    "    activity_ids.append(activity.id)\n",
    "\n",
    "print(len(activity_ids))"
   ]
  },
  {
   "cell_type": "markdown",
   "metadata": {},
   "source": [
    "<b>Create GeoDataFrame from Strava activity polyline<br>Insert each activity into rec_acts postgres table</b>"
   ]
  },
  {
   "cell_type": "code",
   "execution_count": 7,
   "metadata": {},
   "outputs": [
    {
     "name": "stdout",
     "output_type": "stream",
     "text": [
      "3\n"
     ]
    }
   ],
   "source": [
    "acts_to_add = []\n",
    "for a in activity_ids:\n",
    "    if a not in db_strava_ids:\n",
    "        acts_to_add.append(a)\n",
    "print(len(acts_to_add))"
   ]
  },
  {
   "cell_type": "code",
   "execution_count": 8,
   "metadata": {},
   "outputs": [
    {
     "name": "stderr",
     "output_type": "stream",
     "text": [
      "Unable to set attribute average_grade_adjusted_speed on entity <Split split=1 distance=1009.20 m elapsed_time=0:09:57>\n",
      "Unable to set attribute average_grade_adjusted_speed on entity <Split split=2 distance=998.10 m elapsed_time=0:09:06>\n",
      "Unable to set attribute average_grade_adjusted_speed on entity <Split split=3 distance=996.50 m elapsed_time=0:09:07>\n",
      "Unable to set attribute average_grade_adjusted_speed on entity <Split split=4 distance=590.60 m elapsed_time=0:05:29>\n",
      "Unable to set attribute average_grade_adjusted_speed on entity <Split split=1 distance=1614.70 m elapsed_time=0:15:29>\n",
      "Unable to set attribute average_grade_adjusted_speed on entity <Split split=2 distance=1615.90 m elapsed_time=0:14:50>\n",
      "Unable to set attribute average_grade_adjusted_speed on entity <Split split=3 distance=363.80 m elapsed_time=0:03:20>\n",
      "Unable to set attribute average_grade_adjusted_speed on entity <Split split=1 distance=1005.30 m elapsed_time=0:15:25>\n",
      "Unable to set attribute average_grade_adjusted_speed on entity <Split split=2 distance=1008.80 m elapsed_time=0:13:06>\n",
      "Unable to set attribute average_grade_adjusted_speed on entity <Split split=3 distance=991.20 m elapsed_time=0:12:09>\n",
      "Unable to set attribute average_grade_adjusted_speed on entity <Split split=4 distance=634.70 m elapsed_time=0:07:52>\n",
      "Unable to set attribute average_grade_adjusted_speed on entity <Split split=1 distance=1627.60 m elapsed_time=0:23:21>\n",
      "Unable to set attribute average_grade_adjusted_speed on entity <Split split=2 distance=1593.80 m elapsed_time=0:20:12>\n",
      "Unable to set attribute average_grade_adjusted_speed on entity <Split split=3 distance=418.60 m elapsed_time=0:04:59>\n",
      "Unable to set attribute average_grade_adjusted_speed on entity <Split split=1 distance=1010.40 m elapsed_time=0:11:45>\n",
      "Unable to set attribute average_grade_adjusted_speed on entity <Split split=2 distance=990.20 m elapsed_time=0:11:05>\n",
      "Unable to set attribute average_grade_adjusted_speed on entity <Split split=3 distance=1003.70 m elapsed_time=0:11:17>\n",
      "Unable to set attribute average_grade_adjusted_speed on entity <Split split=4 distance=586.10 m elapsed_time=0:06:49>\n",
      "Unable to set attribute average_grade_adjusted_speed on entity <Split split=1 distance=1611.30 m elapsed_time=0:18:28>\n",
      "Unable to set attribute average_grade_adjusted_speed on entity <Split split=2 distance=1608.70 m elapsed_time=0:18:12>\n",
      "Unable to set attribute average_grade_adjusted_speed on entity <Split split=3 distance=370.40 m elapsed_time=0:04:16>\n"
     ]
    }
   ],
   "source": [
    "def get_sec(time_str):\n",
    "    h, m, s = time_str.split(':')\n",
    "    return int(h) * 3600 + int(m) * 60 + int(s)\n",
    "\n",
    "for a in acts_to_add:\n",
    "    act = client.get_activity(a)\n",
    "    print(act.type)\n",
    "    line=polyline.decode(act.map.polyline)\n",
    "    new_line = []\n",
    "    for l in line:\n",
    "        new_line.append(list((l[1], l[0])))\n",
    "    act_line = LineString(new_line)\n",
    "    data = dict(\n",
    "            strava_id=act.id,\n",
    "            act_type=act.type,\n",
    "            act_date=str(act.start_date).split(\" \")[0],\n",
    "            distance=float(str(unithelper.miles(act.distance)).split(\" \")[0]),\n",
    "            duration=int(get_sec(str(act.elapsed_time))),\n",
    "            elevation=float(str(unithelper.feet(act.total_elevation_gain)).split(\" \")[0]),\n",
    "            start_time=act.start_date_local,\n",
    "            act_name=act.name\n",
    "        )\n",
    "    df = pd.DataFrame(data=data, index=[0])\n",
    "    df\n",
    "    gdf = gpd.GeoDataFrame(df)\n",
    "    gdf['geometry'] = act_line\n",
    "    gdf.crs = {'init': 'epsg:4326'}\n",
    "    gdf['geom'] = gdf['geometry'].apply(lambda x: WKTElement(x.wkt, srid=4326))\n",
    "    gdf.drop('geometry', 1, inplace=True)\n",
    "    gdf.to_sql('rec_acts', eng, if_exists='append', index=False, dtype={'geom': Geometry('LINESTRING', srid=4326)})"
   ]
  },
  {
   "cell_type": "code",
   "execution_count": null,
   "metadata": {},
   "outputs": [],
   "source": []
  }
 ],
 "metadata": {
  "kernelspec": {
   "display_name": "Python 3",
   "language": "python",
   "name": "python3"
  },
  "language_info": {
   "codemirror_mode": {
    "name": "ipython",
    "version": 3
   },
   "file_extension": ".py",
   "mimetype": "text/x-python",
   "name": "python",
   "nbconvert_exporter": "python",
   "pygments_lexer": "ipython3",
   "version": "3.7.3"
  }
 },
 "nbformat": 4,
 "nbformat_minor": 4
}
