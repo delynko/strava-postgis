{
 "cells": [
  {
   "cell_type": "code",
   "execution_count": null,
   "metadata": {},
   "outputs": [],
   "source": [
    "from stravalib.client import Client\n",
    "from stravalib import unithelper\n",
    "import pandas as pd\n",
    "import geopandas as gpd\n",
    "import sqlalchemy as db\n",
    "from geoalchemy2 import Geometry, WKTElement\n",
    "import shapely\n",
    "from shapely.geometry import LineString\n",
    "import polyline\n",
    "import psycopg2\n",
    "import os\n",
    "from dotenv import load_dotenv\n",
    "load_dotenv()\n",
    "\n",
    "pd.set_option('chained_assignment', None)\n",
    "\n",
    "postgres_username = os.getenv('POSTGRES_USERNAME')\n",
    "postgres_password = os.getenv('POSTGRES_PASSWORD')\n",
    "postgres_host = os.getenv('POSTGRES_HOST')\n",
    "client_id = os.getenv('STRAVA_CLIENT_ID')\n",
    "client_secret = os.getenv('STRAVA_CLIENT_SECRET')\n",
    "redirect_uri = os.getenv('STRAVA_REDIRECT_URI')"
   ]
  },
  {
   "cell_type": "markdown",
   "metadata": {},
   "source": [
    "<b>Get list of Strava IDs in postgres table</b>"
   ]
  },
  {
   "cell_type": "code",
   "execution_count": null,
   "metadata": {},
   "outputs": [],
   "source": [
    "db_strava_ids = []\n",
    "\n",
    "eng = db.create_engine(f'postgresql://{postgres_username}:{postgres_password}@{postgres_host}/Recreation')\n",
    "\n",
    "conn = eng.connect()\n",
    "metadata = db.MetaData()\n",
    "\n",
    "rec_acts = db.Table('rec_acts', metadata, autoload=True, autoload_with=eng)\n",
    "\n",
    "qry = db.select([rec_acts.columns.strava_id])\n",
    "\n",
    "result = conn.execute(qry)\n",
    "res = result.fetchall()\n",
    "for r in res:\n",
    "    db_strava_ids.append(r[0])\n",
    "print(len(db_strava_ids))"
   ]
  },
  {
   "cell_type": "markdown",
   "metadata": {},
   "source": [
    "<b>Instantiate Strava API call</b>"
   ]
  },
  {
   "cell_type": "code",
   "execution_count": null,
   "metadata": {},
   "outputs": [],
   "source": [
    "client = Client()\n",
    "authorize_url = client.authorization_url(\n",
    "    client_id=client_id,\n",
    "    redirect_uri=redirect_uri,   \n",
    ")\n",
    "authorize_url"
   ]
  },
  {
   "cell_type": "code",
   "execution_count": null,
   "metadata": {},
   "outputs": [],
   "source": [
    "token_response = client.exchange_code_for_token(\n",
    "    client_id=client_id,\n",
    "    client_secret=client_secret,\n",
    "    code='a51b77646afb9c453976faa8e8d76e493b68e9e9'\n",
    ")\n",
    "\n",
    "access_token = token_response['access_token']\n",
    "refresh_token = token_response['refresh_token']\n",
    "expires_at = token_response['expires_at']\n",
    "\n",
    "client.access_token = access_token\n",
    "client.refresh_token = refresh_token\n",
    "\n",
    "client.token_expires_at = expires_at\n",
    " \n",
    "athlete = client.get_athlete()"
   ]
  },
  {
   "cell_type": "markdown",
   "metadata": {},
   "source": [
    "<b>Get list of activity ids that are not already in rec_acts table.</b>"
   ]
  },
  {
   "cell_type": "code",
   "execution_count": null,
   "metadata": {},
   "outputs": [],
   "source": [
    "activity_ids = []\n",
    "for activity in client.get_activities(after = \"2021-03-01T00:00:00Z\",  limit=10000):\n",
    "    activity_ids.append(activity.id)\n",
    "    print(activity.type)\n",
    "\n",
    "print(len(activity_ids))"
   ]
  },
  {
   "cell_type": "markdown",
   "metadata": {},
   "source": [
    "<b>Create GeoDataFrame from Strava activity polyline<br>Insert each activity into rec_acts postgres table</b>"
   ]
  },
  {
   "cell_type": "code",
   "execution_count": null,
   "metadata": {},
   "outputs": [],
   "source": [
    "acts_to_add = []\n",
    "for a in activity_ids:\n",
    "    if a not in db_strava_ids:\n",
    "        acts_to_add.append(a)\n",
    "print(len(acts_to_add))"
   ]
  },
  {
   "cell_type": "code",
   "execution_count": null,
   "metadata": {},
   "outputs": [],
   "source": [
    "def get_sec(time_str):\n",
    "    h, m, s = time_str.split(':')\n",
    "    return int(h) * 3600 + int(m) * 60 + int(s)\n",
    "\n",
    "for a in acts_to_add:\n",
    "    act = client.get_activity(a)\n",
    "    print(a)\n",
    "    print(act.type)\n",
    "    line=polyline.decode(act.map.polyline)\n",
    "    new_line = []\n",
    "    for l in line:\n",
    "        new_line.append(list((l[1], l[0])))\n",
    "    act_line = LineString(new_line)\n",
    "    data = dict(\n",
    "            strava_id=act.id,\n",
    "            act_type=act.type,\n",
    "            act_date=str(act.start_date).split(\" \")[0],\n",
    "            distance=float(str(unithelper.miles(act.distance)).split(\" \")[0]),\n",
    "            duration=int(get_sec(str(act.elapsed_time))),\n",
    "            elevation=float(str(unithelper.feet(act.total_elevation_gain)).split(\" \")[0]),\n",
    "            start_time=act.start_date_local,\n",
    "            act_name=act.name\n",
    "        )\n",
    "    df = pd.DataFrame(data=data, index=[0])\n",
    "    df\n",
    "    gdf = gpd.GeoDataFrame(df)\n",
    "    gdf['geometry'] = act_line\n",
    "    gdf.crs = {'init': 'epsg:4326'}\n",
    "    gdf['geom'] = gdf['geometry'].apply(lambda x: WKTElement(x.wkt, srid=4326))\n",
    "    gdf.drop('geometry', 1, inplace=True)\n",
    "    gdf.to_sql('rec_acts', eng, if_exists='append', index=False, dtype={'geom': Geometry('LINESTRING', srid=4326)})"
   ]
  },
  {
   "cell_type": "code",
   "execution_count": null,
   "metadata": {},
   "outputs": [],
   "source": []
  }
 ],
 "metadata": {
  "kernelspec": {
   "display_name": "Python 3",
   "language": "python",
   "name": "python3"
  },
  "language_info": {
   "codemirror_mode": {
    "name": "ipython",
    "version": 3
   },
   "file_extension": ".py",
   "mimetype": "text/x-python",
   "name": "python",
   "nbconvert_exporter": "python",
   "pygments_lexer": "ipython3",
   "version": "3.7.9"
  }
 },
 "nbformat": 4,
 "nbformat_minor": 4
}
